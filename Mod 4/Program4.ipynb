{
 "cells": [
  {
   "cell_type": "markdown",
   "metadata": {},
   "source": [
    "# Cadenas en Python."
   ]
  },
  {
   "cell_type": "code",
   "execution_count": 2,
   "metadata": {},
   "outputs": [
    {
     "name": "stdout",
     "output_type": "stream",
     "text": [
      "The \"near side\" is the part of the Moon that faces the Earth\n",
      "We only see about 60% of the Moon's surface\n"
     ]
    }
   ],
   "source": [
    "print('The \"near side\" is the part of the Moon that faces the Earth')\n",
    "print(\"We only see about 60% of the Moon's surface\")"
   ]
  },
  {
   "cell_type": "markdown",
   "metadata": {},
   "source": [
    "# Uso de comillas triples."
   ]
  },
  {
   "cell_type": "code",
   "execution_count": 3,
   "metadata": {},
   "outputs": [
    {
     "name": "stdout",
     "output_type": "stream",
     "text": [
      "We only see about 60% of the Moon's surface, this is known as the \"near side\".\n"
     ]
    }
   ],
   "source": [
    "print(\"\"\"We only see about 60% of the Moon's surface, this is known as the \"near side\".\"\"\")"
   ]
  },
  {
   "cell_type": "markdown",
   "metadata": {},
   "source": [
    "# Texto multilínea."
   ]
  },
  {
   "cell_type": "code",
   "execution_count": 4,
   "metadata": {},
   "outputs": [
    {
     "name": "stdout",
     "output_type": "stream",
     "text": [
      "Facts about the Moon:\n",
      " There is no atmosphere.\n",
      " There is no sound.\n"
     ]
    }
   ],
   "source": [
    "multiline = \"Facts about the Moon:\\n There is no atmosphere.\\n There is no sound.\"\n",
    "print(multiline)"
   ]
  }
 ],
 "metadata": {
  "interpreter": {
   "hash": "50d597d3e4f863a35587fdba69fb15db8c3295b4955a50d452debce0a1e64dea"
  },
  "kernelspec": {
   "display_name": "Python 3.10.0 64-bit",
   "language": "python",
   "name": "python3"
  },
  "language_info": {
   "codemirror_mode": {
    "name": "ipython",
    "version": 3
   },
   "file_extension": ".py",
   "mimetype": "text/x-python",
   "name": "python",
   "nbconvert_exporter": "python",
   "pygments_lexer": "ipython3",
   "version": "3.10.0"
  },
  "orig_nbformat": 4
 },
 "nbformat": 4,
 "nbformat_minor": 2
}
